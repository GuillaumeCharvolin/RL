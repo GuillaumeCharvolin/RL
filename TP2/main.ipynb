{
 "cells": [
  {
   "cell_type": "code",
   "execution_count": 1,
   "metadata": {},
   "outputs": [],
   "source": [
    "from space import *\n",
    "from agent import *"
   ]
  },
  {
   "cell_type": "code",
   "execution_count": 2,
   "metadata": {},
   "outputs": [
    {
     "name": "stdout",
     "output_type": "stream",
     "text": [
      "[μ19.80 σ5.34] [μ12.76 σ1.32] [μ18.59 σ4.62] [μ10.66 σ4.01] [μ12.83 σ3.05] \n",
      "[μ10.75 σ4.01] [μ17.01 σ5.86] [μ18.56 σ4.49] [μ18.71 σ3.58] [μ10.63 σ2.09] \n",
      "[μ10.75 σ2.53] [μ10.12 σ4.82] [μ14.59 σ5.34] [μ16.27 σ4.94] [μ17.13 σ1.73] \n",
      "[μ19.76 σ5.08] [μ13.27 σ2.04] [μ13.50 σ3.62] [μ15.08 σ2.89] [μ19.39 σ1.33] \n",
      "[μ13.12 σ4.36] [μ14.68 σ1.14] [μ13.64 σ1.38] [μ19.42 σ1.60] [μ12.96 σ3.38] \n",
      "\n",
      "19.729095108939227\n"
     ]
    }
   ],
   "source": [
    "new_space = Space(5, 5, NormalLaw)\n",
    "\n",
    "print(new_space)\n",
    "\n",
    "sum = 0\n",
    "for i in range(10_000):\n",
    "    sum += new_space.get_gain_of(0, 0)\n",
    "\n",
    "average_gain = sum / 10_000\n",
    "\n",
    "print(average_gain)"
   ]
  },
  {
   "cell_type": "code",
   "execution_count": 3,
   "metadata": {},
   "outputs": [],
   "source": [
    "new_agent = Agent(\"TestAgent\", new_space, 10_000)"
   ]
  },
  {
   "cell_type": "code",
   "execution_count": 4,
   "metadata": {},
   "outputs": [
    {
     "name": "stdout",
     "output_type": "stream",
     "text": [
      "[x0 y0 q00.00] [x1 y0 q00.00] [x2 y0 q00.00] [x3 y0 q00.00] [x4 y0 q00.00] \n",
      "[x0 y1 q00.00] [x1 y1 q00.00] [x2 y1 q00.00] [x3 y1 q00.00] [x4 y1 q00.00] \n",
      "[x0 y2 q00.00] [x1 y2 q00.00] [x2 y2 q00.00] [x3 y2 q00.00] [x4 y2 q00.00] \n",
      "[x0 y3 q00.00] [x1 y3 q00.00] [x2 y3 q00.00] [x3 y3 q00.00] [x4 y3 q00.00] \n",
      "[x0 y4 q00.00] [x1 y4 q00.00] [x2 y4 q00.00] [x3 y4 q00.00] [x4 y4 q00.00] \n",
      "\n"
     ]
    }
   ],
   "source": [
    "print(new_agent.space_info)"
   ]
  },
  {
   "cell_type": "code",
   "execution_count": 5,
   "metadata": {},
   "outputs": [],
   "source": [
    "for _ in range(1000):\n",
    "    new_agent.get_gain_current_cell()"
   ]
  },
  {
   "cell_type": "code",
   "execution_count": 6,
   "metadata": {},
   "outputs": [
    {
     "name": "stdout",
     "output_type": "stream",
     "text": [
      "[x0 y0 q00.00] [x1 y0 q00.00] [x2 y0 q00.00] [x3 y0 q00.00] [x4 y0 q00.00] \n",
      "[x0 y1 q00.00] [x1 y1 q00.00] [x2 y1 q00.00] [x3 y1 q00.00] [x4 y1 q00.00] \n",
      "[x0 y2 q00.00] [x1 y2 q00.00] [x2 y2 q00.00] [x3 y2 q00.00] [x4 y2 q00.00] \n",
      "[x0 y3 q00.00] [x1 y3 q00.00] [x2 y3 q00.00] [x3 y3 q00.00] [x4 y3 q00.00] \n",
      "[x0 y4 q00.00] [x1 y4 q00.00] [x2 y4 q00.00] [x3 y4 q00.00] [x4 y4 q00.00] \n",
      "\n"
     ]
    }
   ],
   "source": [
    "print(new_agent.space_info)"
   ]
  },
  {
   "cell_type": "code",
   "execution_count": 7,
   "metadata": {},
   "outputs": [
    {
     "name": "stdout",
     "output_type": "stream",
     "text": [
      "[[x0 y0 q00.00], [x1 y0 q00.00], [x0 y1 q00.00]]\n"
     ]
    }
   ],
   "source": [
    "print(new_agent.get_accessible_cell())"
   ]
  },
  {
   "cell_type": "markdown",
   "metadata": {},
   "source": [
    "## SARSA Algorithms"
   ]
  },
  {
   "cell_type": "code",
   "execution_count": 8,
   "metadata": {},
   "outputs": [],
   "source": [
    "epsilon_greedy_policy = E_Greedy(epsilon=0.40)\n",
    "sasra_espsilon_greedy_agent = SASRA(\"SASRA\", new_space, epsilon_greedy_policy)"
   ]
  },
  {
   "cell_type": "code",
   "execution_count": 9,
   "metadata": {},
   "outputs": [],
   "source": [
    "sasra_espsilon_greedy_agent.run()"
   ]
  },
  {
   "cell_type": "code",
   "execution_count": 10,
   "metadata": {},
   "outputs": [
    {
     "name": "stdout",
     "output_type": "stream",
     "text": [
      "[μ19.80 σ5.34] [μ12.76 σ1.32] [μ18.59 σ4.62] [μ10.66 σ4.01] [μ12.83 σ3.05] \n",
      "[μ10.75 σ4.01] [μ17.01 σ5.86] [μ18.56 σ4.49] [μ18.71 σ3.58] [μ10.63 σ2.09] \n",
      "[μ10.75 σ2.53] [μ10.12 σ4.82] [μ14.59 σ5.34] [μ16.27 σ4.94] [μ17.13 σ1.73] \n",
      "[μ19.76 σ5.08] [μ13.27 σ2.04] [μ13.50 σ3.62] [μ15.08 σ2.89] [μ19.39 σ1.33] \n",
      "[μ13.12 σ4.36] [μ14.68 σ1.14] [μ13.64 σ1.38] [μ19.42 σ1.60] [μ12.96 σ3.38] \n",
      "\n",
      "[x0 y0 q38.40] [x1 y0 q31.37] [x2 y0 q37.10] [x3 y0 q29.39] [x4 y0 q30.65] \n",
      "[x0 y1 q29.01] [x1 y1 q35.77] [x2 y1 q32.54] [x3 y1 q37.85] [x4 y1 q26.52] \n",
      "[x0 y2 q27.48] [x1 y2 q30.32] [x2 y2 q29.62] [x3 y2 q33.13] [x4 y2 q35.31] \n",
      "[x0 y3 q39.16] [x1 y3 q30.21] [x2 y3 q32.04] [x3 y3 q32.44] [x4 y3 q36.71] \n",
      "[x0 y4 q27.48] [x1 y4 q31.88] [x2 y4 q31.44] [x3 y4 q37.57] [x4 y4 q32.02] \n",
      "\n"
     ]
    }
   ],
   "source": [
    "print(new_space)\n",
    "print(sasra_espsilon_greedy_agent.space_info)\n"
   ]
  }
 ],
 "metadata": {
  "kernelspec": {
   "display_name": "Python 3",
   "language": "python",
   "name": "python3"
  },
  "language_info": {
   "codemirror_mode": {
    "name": "ipython",
    "version": 3
   },
   "file_extension": ".py",
   "mimetype": "text/x-python",
   "name": "python",
   "nbconvert_exporter": "python",
   "pygments_lexer": "ipython3",
   "version": "3.12.3"
  }
 },
 "nbformat": 4,
 "nbformat_minor": 2
}
